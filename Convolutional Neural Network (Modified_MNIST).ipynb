{
 "cells": [
  {
   "cell_type": "markdown",
   "metadata": {},
   "source": [
    "# Modified MNIST Challenge\n",
    "+ Description\n",
    "+ Dataset\n",
    "+ Imports\n",
    "+ Loading\n",
    "+ Wrangling\n",
    "+ Splitting\n",
    "+ TensorFlow ConvNet"
   ]
  },
  {
   "cell_type": "markdown",
   "metadata": {},
   "source": [
    "## Description\n",
    "\"For project #3, you are asked to create classifiers to analyze images consisting of two digits and a character. The character may be an 'a' or 'A' (for add), in which case your classifier has to return the sum of the two digits, or an 'm' or 'M' (for multiply), in which case your classifier has to return the product of the two digits. Additionally, a variety of different textures are used in the backgrounds of the images.\n",
    "\n",
    "We provide a set of labeled training data (images and target outputs) as well as a set of unlabeled test data (i.e. images only). You must run your model on the test data and submit the target outputs to Kaggle.\n",
    "\n",
    "You are allowed to use libraries such as theano/sklearn/tensorflow/pytorch for parts 3 and 1 only. For part 2 you must do the full implementation. You can submit any part for kaggle, although the kaggle competition is ranked based on your best submission only and you have a daily limit on number of submissions.\n",
    "\n",
    "Please keep the kaggle teams the same as the teams for the report, and include your kaggle team name in the report so we can grade your performance :)\"\n",
    "\n",
    "Original link of the competition (2017-11-13):"
   ]
  },
  {
   "cell_type": "markdown",
   "metadata": {},
   "source": [
    "## Dataset\n",
    "The following description from the competition page is available:\n",
    "\n",
    "\"The training set (train_x.csv, test_x.csv) consists of 50,000 8bit-greyscale images of size 64x64. There is a unique label for each of the examples, which is the result of the application of operator on the two digits in the image ( result for \"a\"/\"A\" is the sum of two digits and result for \"m\"/\"M\" is the product of two digits ). The total num of unique classes are 40 . ( [0, 1, 2, 3, 4, 5, 6, 7, 8, 9, 10, 11, 12, 13, 14, 15, 16, 17, 18, 20, 21, 24, 25, 27, 28, 30, 32, 35, 36, 40, 42, 45, 48, 49, 54, 56, 63, 64, 72, 81] )\n",
    "\n",
    "The test set (test_x.csv) consists of 10000 images of the same format.\n",
    "\n",
    "The .csv file contains the raw uncompressed images pixel values in row major format separated by \",\". Each image is 64 x 64, so each row contains 4096 float values, each containing the a float value which represents the 0-255 greyscale intensity of each pixel.\""
   ]
  },
  {
   "cell_type": "markdown",
   "metadata": {},
   "source": [
    "## Imports"
   ]
  },
  {
   "cell_type": "code",
   "execution_count": 63,
   "metadata": {
    "collapsed": false
   },
   "outputs": [],
   "source": [
    "import matplotlib.pyplot as plt\n",
    "import tensorflow as tf\n",
    "import pandas as pd\n",
    "import numpy as np\n",
    "import time\n",
    "\n",
    "from sklearn.metrics import confusion_matrix\n",
    "from datetime import timedelta\n",
    "\n",
    "%matplotlib inline"
   ]
  },
  {
   "cell_type": "code",
   "execution_count": 64,
   "metadata": {
    "collapsed": false
   },
   "outputs": [
    {
     "name": "stdout",
     "output_type": "stream",
     "text": [
      "This notebook was developed in Anaconda using Python 3.5.4 and TensorFlow 1.2.1\n"
     ]
    }
   ],
   "source": [
    "import platform\n",
    "print('This notebook was developed in Anaconda using Python', platform.python_version(), 'and TensorFlow',tf.__version__,)"
   ]
  },
  {
   "cell_type": "markdown",
   "metadata": {},
   "source": [
    "For replayability only."
   ]
  },
  {
   "cell_type": "code",
   "execution_count": 65,
   "metadata": {
    "collapsed": true
   },
   "outputs": [],
   "source": [
    "SEED = 42\n",
    "np.random.seed(SEED)\n",
    "tf.set_random_seed(SEED)"
   ]
  },
  {
   "cell_type": "markdown",
   "metadata": {},
   "source": [
    "## Loading\n",
    "For this project, we'll be using a modified MNIST dataset obtained from a private Kaggle competition in the course of the third project from McGill's COMP 550 Fall 2017 class."
   ]
  },
  {
   "cell_type": "code",
   "execution_count": 66,
   "metadata": {
    "collapsed": false
   },
   "outputs": [
    {
     "name": "stdout",
     "output_type": "stream",
     "text": [
      "<class 'pandas.core.frame.DataFrame'>\n",
      "RangeIndex: 50000 entries, 0 to 49999\n",
      "Columns: 4096 entries, 0 to 4095\n",
      "dtypes: float64(4096)\n",
      "memory usage: 1.5 GB\n"
     ]
    }
   ],
   "source": [
    "df_x = pd.read_csv(\"data/Modified_MNIST/train_x.csv\", header=None)\n",
    "df_y = pd.read_csv(\"data/Modified_MNIST/train_y.csv\", header=None)\n",
    "df_x.info()"
   ]
  },
  {
   "cell_type": "markdown",
   "metadata": {},
   "source": [
    "The data is in type float64 which TensorFlow doesn't like so we'll have to deal with this by casting it down to float32."
   ]
  },
  {
   "cell_type": "markdown",
   "metadata": {},
   "source": [
    "## Data Exploration\n",
    "Let's visualize the dataset and look at some features. Then we can better decide on the model's architecture and get a sense of batch size for training depending on our available computation power. We will also investigate the various distributions in the data."
   ]
  },
  {
   "cell_type": "code",
   "execution_count": 67,
   "metadata": {
    "collapsed": false
   },
   "outputs": [
    {
     "data": {
      "text/html": [
       "<div>\n",
       "<style scoped>\n",
       "    .dataframe tbody tr th:only-of-type {\n",
       "        vertical-align: middle;\n",
       "    }\n",
       "\n",
       "    .dataframe tbody tr th {\n",
       "        vertical-align: top;\n",
       "    }\n",
       "\n",
       "    .dataframe thead th {\n",
       "        text-align: right;\n",
       "    }\n",
       "</style>\n",
       "<table border=\"1\" class=\"dataframe\">\n",
       "  <thead>\n",
       "    <tr style=\"text-align: right;\">\n",
       "      <th></th>\n",
       "      <th>0</th>\n",
       "      <th>1</th>\n",
       "      <th>2</th>\n",
       "      <th>3</th>\n",
       "      <th>4</th>\n",
       "      <th>5</th>\n",
       "      <th>6</th>\n",
       "      <th>7</th>\n",
       "      <th>8</th>\n",
       "      <th>9</th>\n",
       "      <th>...</th>\n",
       "      <th>4086</th>\n",
       "      <th>4087</th>\n",
       "      <th>4088</th>\n",
       "      <th>4089</th>\n",
       "      <th>4090</th>\n",
       "      <th>4091</th>\n",
       "      <th>4092</th>\n",
       "      <th>4093</th>\n",
       "      <th>4094</th>\n",
       "      <th>4095</th>\n",
       "    </tr>\n",
       "  </thead>\n",
       "  <tbody>\n",
       "    <tr>\n",
       "      <th>0</th>\n",
       "      <td>34.0</td>\n",
       "      <td>35.0</td>\n",
       "      <td>37.0</td>\n",
       "      <td>34.0</td>\n",
       "      <td>42.0</td>\n",
       "      <td>42.0</td>\n",
       "      <td>40.0</td>\n",
       "      <td>43.0</td>\n",
       "      <td>40.0</td>\n",
       "      <td>38.0</td>\n",
       "      <td>...</td>\n",
       "      <td>30.0</td>\n",
       "      <td>40.0</td>\n",
       "      <td>50.0</td>\n",
       "      <td>36.0</td>\n",
       "      <td>36.0</td>\n",
       "      <td>82.0</td>\n",
       "      <td>59.0</td>\n",
       "      <td>32.0</td>\n",
       "      <td>36.0</td>\n",
       "      <td>35.0</td>\n",
       "    </tr>\n",
       "    <tr>\n",
       "      <th>1</th>\n",
       "      <td>107.0</td>\n",
       "      <td>97.0</td>\n",
       "      <td>112.0</td>\n",
       "      <td>122.0</td>\n",
       "      <td>123.0</td>\n",
       "      <td>117.0</td>\n",
       "      <td>132.0</td>\n",
       "      <td>137.0</td>\n",
       "      <td>143.0</td>\n",
       "      <td>141.0</td>\n",
       "      <td>...</td>\n",
       "      <td>164.0</td>\n",
       "      <td>170.0</td>\n",
       "      <td>170.0</td>\n",
       "      <td>160.0</td>\n",
       "      <td>166.0</td>\n",
       "      <td>161.0</td>\n",
       "      <td>144.0</td>\n",
       "      <td>138.0</td>\n",
       "      <td>136.0</td>\n",
       "      <td>141.0</td>\n",
       "    </tr>\n",
       "    <tr>\n",
       "      <th>2</th>\n",
       "      <td>139.0</td>\n",
       "      <td>135.0</td>\n",
       "      <td>122.0</td>\n",
       "      <td>178.0</td>\n",
       "      <td>162.0</td>\n",
       "      <td>166.0</td>\n",
       "      <td>160.0</td>\n",
       "      <td>154.0</td>\n",
       "      <td>128.0</td>\n",
       "      <td>149.0</td>\n",
       "      <td>...</td>\n",
       "      <td>154.0</td>\n",
       "      <td>142.0</td>\n",
       "      <td>147.0</td>\n",
       "      <td>185.0</td>\n",
       "      <td>158.0</td>\n",
       "      <td>150.0</td>\n",
       "      <td>93.0</td>\n",
       "      <td>104.0</td>\n",
       "      <td>96.0</td>\n",
       "      <td>148.0</td>\n",
       "    </tr>\n",
       "    <tr>\n",
       "      <th>3</th>\n",
       "      <td>196.0</td>\n",
       "      <td>195.0</td>\n",
       "      <td>198.0</td>\n",
       "      <td>209.0</td>\n",
       "      <td>206.0</td>\n",
       "      <td>203.0</td>\n",
       "      <td>205.0</td>\n",
       "      <td>197.0</td>\n",
       "      <td>182.0</td>\n",
       "      <td>172.0</td>\n",
       "      <td>...</td>\n",
       "      <td>181.0</td>\n",
       "      <td>181.0</td>\n",
       "      <td>180.0</td>\n",
       "      <td>176.0</td>\n",
       "      <td>170.0</td>\n",
       "      <td>173.0</td>\n",
       "      <td>174.0</td>\n",
       "      <td>167.0</td>\n",
       "      <td>163.0</td>\n",
       "      <td>161.0</td>\n",
       "    </tr>\n",
       "    <tr>\n",
       "      <th>4</th>\n",
       "      <td>137.0</td>\n",
       "      <td>145.0</td>\n",
       "      <td>153.0</td>\n",
       "      <td>161.0</td>\n",
       "      <td>168.0</td>\n",
       "      <td>173.0</td>\n",
       "      <td>175.0</td>\n",
       "      <td>178.0</td>\n",
       "      <td>156.0</td>\n",
       "      <td>18.0</td>\n",
       "      <td>...</td>\n",
       "      <td>50.0</td>\n",
       "      <td>54.0</td>\n",
       "      <td>61.0</td>\n",
       "      <td>67.0</td>\n",
       "      <td>74.0</td>\n",
       "      <td>80.0</td>\n",
       "      <td>87.0</td>\n",
       "      <td>91.0</td>\n",
       "      <td>99.0</td>\n",
       "      <td>103.0</td>\n",
       "    </tr>\n",
       "  </tbody>\n",
       "</table>\n",
       "<p>5 rows × 4096 columns</p>\n",
       "</div>"
      ],
      "text/plain": [
       "    0      1      2      3      4      5      6      7      8      9     \\\n",
       "0   34.0   35.0   37.0   34.0   42.0   42.0   40.0   43.0   40.0   38.0   \n",
       "1  107.0   97.0  112.0  122.0  123.0  117.0  132.0  137.0  143.0  141.0   \n",
       "2  139.0  135.0  122.0  178.0  162.0  166.0  160.0  154.0  128.0  149.0   \n",
       "3  196.0  195.0  198.0  209.0  206.0  203.0  205.0  197.0  182.0  172.0   \n",
       "4  137.0  145.0  153.0  161.0  168.0  173.0  175.0  178.0  156.0   18.0   \n",
       "\n",
       "   ...     4086   4087   4088   4089   4090   4091   4092   4093   4094   4095  \n",
       "0  ...     30.0   40.0   50.0   36.0   36.0   82.0   59.0   32.0   36.0   35.0  \n",
       "1  ...    164.0  170.0  170.0  160.0  166.0  161.0  144.0  138.0  136.0  141.0  \n",
       "2  ...    154.0  142.0  147.0  185.0  158.0  150.0   93.0  104.0   96.0  148.0  \n",
       "3  ...    181.0  181.0  180.0  176.0  170.0  173.0  174.0  167.0  163.0  161.0  \n",
       "4  ...     50.0   54.0   61.0   67.0   74.0   80.0   87.0   91.0   99.0  103.0  \n",
       "\n",
       "[5 rows x 4096 columns]"
      ]
     },
     "execution_count": 67,
     "metadata": {},
     "output_type": "execute_result"
    }
   ],
   "source": [
    "df_x.head()"
   ]
  },
  {
   "cell_type": "markdown",
   "metadata": {},
   "source": [
    "### Data Dimensions\n",
    "Since these values are useful for shapping our tensor variables, we will save them as constants."
   ]
  },
  {
   "cell_type": "code",
   "execution_count": 68,
   "metadata": {
    "collapsed": true
   },
   "outputs": [],
   "source": [
    "IMG_SIZE = 64 # from the description, img is 64x64\n",
    "IMG_SIZE_FLAT = IMG_SIZE**2 # original img data is a 1-D vector\n",
    "IMG_SHAPE = (IMG_SIZE, IMG_SIZE) # tuple to shape our tf vars/placeholders\n",
    "IMG_CHANNELS = 1 # greyscale img\n",
    "NUM_CLASSES = 40 # number of output classes"
   ]
  },
  {
   "cell_type": "markdown",
   "metadata": {},
   "source": [
    "### Data Wrangling\n",
    "We'll now convert our data into a numpy which is easier to work with for machine learning purposes. We will also cast the data to float32 and normalize the features to take values between -1 and 1. Finally, we'll reshape the data into a 4D tensor as defined by the TensorFlow API:\n",
    "\n",
    "[num_samples, img_height, img_width, img_channels]\n",
    "\n",
    "For the targets, we'll one hot encode the targets and create a label dictionnary to recover the original label values."
   ]
  },
  {
   "cell_type": "code",
   "execution_count": 69,
   "metadata": {
    "collapsed": false
   },
   "outputs": [],
   "source": [
    "from sklearn.preprocessing import LabelEncoder\n",
    "from sklearn.preprocessing import OneHotEncoder\n",
    "\n",
    "#data_x = ((df_x.values.astype('float32') / 128) - 1).reshape(-1, IMG_SIZE, IMG_SIZE, IMG_CHANNELS)\n",
    "data_x = df_x.values.astype('float32').reshape(-1, IMG_SIZE, IMG_SIZE, IMG_CHANNELS)\n",
    "data_y = df_y.values.flatten()\n",
    "\n",
    "classes = np.unique(data_y)\n",
    "labels = dict((i,v) for i,v in enumerate(classes))\n",
    "\n",
    "label_encoder = LabelEncoder()\n",
    "y_int = label_encoder.fit_transform(data_y).reshape(len(data_y), 1)\n",
    "onehot_encoder = OneHotEncoder(sparse=False)\n",
    "y_hot = onehot_encoder.fit_transform(y_int).astype('float32')"
   ]
  },
  {
   "cell_type": "markdown",
   "metadata": {},
   "source": [
    "### Data Visualization\n",
    "We'll define a function to draw the input images. This will be useful to compare the model's classification versus the real label. The function will draw 12 images in a 3x4 grid with the true and predicted labels, if available."
   ]
  },
  {
   "cell_type": "code",
   "execution_count": 70,
   "metadata": {
    "collapsed": true
   },
   "outputs": [],
   "source": [
    "def plot_img(images, targets, labels, pred=None):\n",
    "    PLT_ROWS = 3\n",
    "    PLT_COLS = 4\n",
    "    assert len(images) == len(targets) == PLT_ROWS*PLT_COLS\n",
    "    fig, axes = plt.subplots(PLT_ROWS, PLT_COLS)\n",
    "    fig.subplots_adjust(hspace=0.3)\n",
    "    \n",
    "    for i, ax in enumerate(axes.flat):\n",
    "        ax.imshow(images[i].reshape(IMG_SHAPE), cmap='gray', vmin=-1, vmax=1)\n",
    "        \n",
    "        if pred:\n",
    "            xlabel = \"True: {0}, Pred: {1}\".format(labels[targets[i]], labels[pred[i]])\n",
    "        else:\n",
    "            xlabel = \"True: {0}\".format(labels[targets[i]])\n",
    "        ax.set_xlabel(xlabel)\n",
    "        ax.set_xticks([])\n",
    "        ax.set_yticks([])\n",
    "    plt.show"
   ]
  },
  {
   "cell_type": "code",
   "execution_count": 71,
   "metadata": {
    "collapsed": false
   },
   "outputs": [
    {
     "data": {
      "image/png": "[encoded data removed]",
      "text/plain": [
       "<matplotlib.figure.Figure at 0xcfa6c50>"
      ]
     },
     "metadata": {},
     "output_type": "display_data"
    }
   ],
   "source": [
    "plot_img(data_x[0:12], y_int[0:12].flatten(), labels)"
   ]
  },
  {
   "cell_type": "markdown",
   "metadata": {},
   "source": [
    "One of the interesting observation here is that it seems the salient features that compose the symbols of interest are all completly white (pixel rgb value of 255). It may be useful then as a pre-processing step to polarize the input data so to reduce the feature space into binary pixel values. The key would be to select a good threshold value."
   ]
  },
  {
   "cell_type": "markdown",
   "metadata": {},
   "source": [
    "### Data Metrics\n",
    "Let's now look at some interesting metrics such as class representation. This is useful during data splitting to account for class imbalance, where we could use stratified sampling methods."
   ]
  },
  {
   "cell_type": "code",
   "execution_count": 72,
   "metadata": {
    "collapsed": false
   },
   "outputs": [
    {
     "data": {
      "image/png": "[encoded data removed]",
      "text/plain": [
       "<matplotlib.figure.Figure at 0x5d6e240>"
      ]
     },
     "metadata": {},
     "output_type": "display_data"
    },
    {
     "name": "stdout",
     "output_type": "stream",
     "text": [
      "Possible output labels:\n",
      "[ 0  1  2  3  4  5  6  7  8  9 10 11 12 13 14 15 16 17 18 20 21 24 25 27 28\n",
      " 30 32 35 36 40 42 45 48 49 54 56 63 64 72 81]\n",
      "Highest-count class representation 11.32%\n"
     ]
    }
   ],
   "source": [
    "classes_cnt = [len(data_y[data_y==v]) for _,v in enumerate(classes)]\n",
    "\n",
    "fig, ax = plt.subplots()\n",
    "ax.bar(np.arange(len(classes)), classes_cnt, align='center')\n",
    "ax.set_xticks(np.arange(len(classes)))\n",
    "ax.set_xticklabels([])\n",
    "plt.show()\n",
    "\n",
    "print('Possible output labels:')\n",
    "print(classes)\n",
    "print('Highest-count class representation %2.2f%%' % (max(classes_cnt)/sum(classes_cnt)*100))"
   ]
  },
  {
   "cell_type": "markdown",
   "metadata": {},
   "source": [
    "## Data Splitting\n",
    "Let us split the data into a 8:1:1 training, testing, validating set. We will use a stratified sampling scheme to combat the class imbalance noticed above."
   ]
  },
  {
   "cell_type": "markdown",
   "metadata": {},
   "source": [
    "The following is a class that wraps our data to get a nice next_batch() functionality. Credits goes to a Stackoverflow comment somewhere on the net."
   ]
  },
  {
   "cell_type": "code",
   "execution_count": 73,
   "metadata": {
    "collapsed": true
   },
   "outputs": [],
   "source": [
    "class Dataset:\n",
    "\n",
    "    def __init__(self,data):\n",
    "        self._index_in_epoch = 0\n",
    "        self._epochs_completed = 0\n",
    "        self._data = data\n",
    "        self._num_examples = data.shape[0]\n",
    "        pass\n",
    "\n",
    "    def __len__(self):\n",
    "        return self._num_examples\n",
    "\n",
    "    @property\n",
    "    def data(self):\n",
    "        return self._data\n",
    "\n",
    "    def next_batch(self,batch_size=None,shuffle=False):\n",
    "        start = self._index_in_epoch\n",
    "        if not batch_size:\n",
    "            batch_size = self._num_examples\n",
    "            \n",
    "        if shuffle:\n",
    "            idx0 = np.arange(0, self._num_examples)  # get all possible indexes\n",
    "            np.random.shuffle(idx0)  # shuffle indexes\n",
    "            self._data = self.data[idx0]  # get list of `num` random samples\n",
    "\n",
    "        # go to the next batch\n",
    "        if start + batch_size > self._num_examples:\n",
    "            self._epochs_completed += 1\n",
    "            rest_num_examples = self._num_examples - start\n",
    "            data_rest_part = self.data[start:self._num_examples]\n",
    "\n",
    "            start = 0\n",
    "            self._index_in_epoch = batch_size - rest_num_examples #avoid the case where the #sample != integar times of batch_size\n",
    "            end =  self._index_in_epoch  \n",
    "            data_new_part =  self._data[start:end]  \n",
    "            return np.concatenate((data_rest_part, data_new_part), axis=0)\n",
    "        else:\n",
    "            self._index_in_epoch += batch_size\n",
    "            end = self._index_in_epoch\n",
    "            return self._data[start:end]"
   ]
  },
  {
   "cell_type": "code",
   "execution_count": 74,
   "metadata": {
    "collapsed": true
   },
   "outputs": [],
   "source": [
    "from sklearn.model_selection import train_test_split\n",
    "\n",
    "x_train, x_valid, y_train, y_valid = train_test_split(data_x, y_hot,\n",
    "                                                      test_size=0.2, \n",
    "                                                      stratify=data_y,\n",
    "                                                      random_state=SEED)\n",
    "x_test, x_valid, y_test, y_valid = train_test_split(x_valid, y_valid,\n",
    "                                                    test_size=0.5, \n",
    "                                                    stratify=np.argmax(y_valid, axis=1),\n",
    "                                                    random_state=SEED)"
   ]
  },
  {
   "cell_type": "code",
   "execution_count": 75,
   "metadata": {
    "collapsed": false
   },
   "outputs": [
    {
     "name": "stdout",
     "output_type": "stream",
     "text": [
      "Test:  40000 Valid:  5000 Test:  5000\n"
     ]
    }
   ],
   "source": [
    "x_train = Dataset(x_train)\n",
    "y_train = Dataset(y_train)\n",
    "x_test = Dataset(x_test)\n",
    "y_test = Dataset(y_test)\n",
    "x_valid = Dataset(x_valid)\n",
    "y_valid = Dataset(y_valid)\n",
    "print('Test: ', len(x_train), 'Valid: ', len(x_valid), 'Test: ', len(x_test))"
   ]
  },
  {
   "cell_type": "markdown",
   "metadata": {},
   "source": [
    "Makinng sure the data is accessible correctly."
   ]
  },
  {
   "cell_type": "code",
   "execution_count": 76,
   "metadata": {
    "collapsed": false
   },
   "outputs": [
    {
     "data": {
      "image/png": "[encoded data removed]",
      "text/plain": [
       "<matplotlib.figure.Figure at 0x14e431710>"
      ]
     },
     "metadata": {},
     "output_type": "display_data"
    }
   ],
   "source": [
    "plot_img(x_train.data[0:12], np.argmax(y_train.data[0:12], axis=1), labels)"
   ]
  },
  {
   "cell_type": "markdown",
   "metadata": {},
   "source": [
    "## GraphDef\n",
    "\n",
    "#### ConvNet\n",
    "Here we define the model's architecture along with all training hyperparameters. We will then test on each model a test set to obtain the best model and finally test against the held-out validation set."
   ]
  },
  {
   "cell_type": "markdown",
   "metadata": {},
   "source": [
    "### Define a reset function\n",
    "Funny thing if you modify your nodes and rerun the jupyter block, TensorFlow will keep adding them as new ones to your graph, effectively growing your graph enormous! If you ever hit a GraphDef > 2GB error, you forgot to hit the reset button."
   ]
  },
  {
   "cell_type": "code",
   "execution_count": 145,
   "metadata": {
    "collapsed": false
   },
   "outputs": [],
   "source": [
    "def reset_graph(session=None, seed=42):\n",
    "    tf.reset_default_graph()\n",
    "    tf.set_random_seed(seed)\n",
    "    np.random.seed(seed)\n",
    "    global total_iterations\n",
    "    total_iterations = 0\n",
    "    if session:\n",
    "        if not session._closed:\n",
    "            session.close()\n",
    "\n",
    "reset_graph(seed=SEED)"
   ]
  },
  {
   "cell_type": "markdown",
   "metadata": {},
   "source": [
    "### Hyperparameters"
   ]
  },
  {
   "cell_type": "code",
   "execution_count": 146,
   "metadata": {
    "collapsed": true
   },
   "outputs": [],
   "source": [
    "learning_rate = 0.001\n",
    "dropout = 0.5\n",
    "batch_size = 250"
   ]
  },
  {
   "cell_type": "markdown",
   "metadata": {},
   "source": [
    "### Placeholders"
   ]
  },
  {
   "cell_type": "code",
   "execution_count": 147,
   "metadata": {
    "collapsed": true
   },
   "outputs": [],
   "source": [
    "x = tf.placeholder(tf.float32, shape=(None, IMG_SIZE, IMG_SIZE, IMG_CHANNELS), name=\"x\")\n",
    "y = tf.placeholder(tf.float32, shape=(None, NUM_CLASSES), name=\"y\")\n",
    "y_class = tf.cast(tf.argmax(y, axis=1), tf.int64)"
   ]
  },
  {
   "cell_type": "markdown",
   "metadata": {},
   "source": [
    "### Architecture\n",
    "We'll define the the convolutional neural network's architecture in layers."
   ]
  },
  {
   "cell_type": "code",
   "execution_count": 148,
   "metadata": {
    "collapsed": false
   },
   "outputs": [],
   "source": [
    "with tf.variable_scope('ConvNet'):\n",
    "\n",
    "    weight_init = tf.contrib.layers.xavier_initializer()\n",
    "\n",
    "    # Convolution Layer with 32 filters and a kernel size of 5\n",
    "    conv1 = tf.layers.conv2d(x, filters=16,  kernel_size=[5, 5], padding='Same', kernel_initializer=weight_init, activation=tf.nn.relu)\n",
    "    pool1 = tf.sqrt(tf.layers.average_pooling2d(tf.square(conv1), 2, 2, padding='Same'))\n",
    "    pool12 = tf.sqrt(tf.layers.average_pooling2d(tf.square(pool1), 2, 2, padding='Same'))\n",
    "\n",
    "    conv2 = tf.layers.conv2d(pool1, filters=32, kernel_size=[7,7], padding='Same', kernel_initializer=weight_init, activation=tf.nn.relu)\n",
    "    pool2 = tf.sqrt(tf.layers.average_pooling2d(tf.square(conv2), 2, 2, padding='Same'))\n",
    "\n",
    "    # Flatten the data to a 1-D vector for the fully connected layer\n",
    "    flat1 = tf.contrib.layers.flatten(pool12)\n",
    "    flat2 = tf.contrib.layers.flatten(pool2)\n",
    "    cat1 = tf.concat([flat1, flat2], axis=1)\n",
    "\n",
    "    # Fully connected layer \n",
    "    fc1 = tf.layers.dense(cat1, 20, kernel_initializer=weight_init, activation=tf.nn.relu)\n",
    "\n",
    "    # Apply Dropout \n",
    "    do1 = tf.layers.dropout(fc1, rate=dropout)\n",
    "\n",
    "    logits = tf.layers.dense(do1, NUM_CLASSES)"
   ]
  },
  {
   "cell_type": "markdown",
   "metadata": {},
   "source": [
    "### Learning\n",
    "Defining the evaluation measures and the learning methods."
   ]
  },
  {
   "cell_type": "code",
   "execution_count": 149,
   "metadata": {
    "collapsed": true
   },
   "outputs": [],
   "source": [
    "with tf.name_scope(\"loss\"):\n",
    "    cross = tf.nn.softmax_cross_entropy_with_logits(labels=y, logits=logits)\n",
    "    loss = tf.reduce_mean(cross, name=\"loss\")"
   ]
  },
  {
   "cell_type": "code",
   "execution_count": 150,
   "metadata": {
    "collapsed": true
   },
   "outputs": [],
   "source": [
    "with tf.name_scope(\"train\"):\n",
    "    optimizer = tf.train.AdamOptimizer(learning_rate)\n",
    "    training_op = optimizer.minimize(loss)"
   ]
  },
  {
   "cell_type": "code",
   "execution_count": 151,
   "metadata": {
    "collapsed": true
   },
   "outputs": [],
   "source": [
    "with tf.name_scope(\"eval\"):\n",
    "    pred = tf.nn.softmax(logits)\n",
    "    pred_class = tf.argmax(pred, axis=1)\n",
    "    correct = tf.equal(pred_class, y_class)\n",
    "    accuracy = tf.reduce_mean(tf.cast(correct, tf.float32))"
   ]
  },
  {
   "cell_type": "markdown",
   "metadata": {},
   "source": [
    "## Training"
   ]
  },
  {
   "cell_type": "code",
   "execution_count": 152,
   "metadata": {
    "collapsed": true
   },
   "outputs": [],
   "source": [
    "sess = tf.Session()\n",
    "sess.run(tf.global_variables_initializer())"
   ]
  },
  {
   "cell_type": "code",
   "execution_count": 153,
   "metadata": {
    "collapsed": true
   },
   "outputs": [],
   "source": [
    "def train(session, iterations, batch_size):\n",
    "    global total_iterations\n",
    "    #global train_acc_list\n",
    "    #global valid_acc_list\n",
    "    #global iterations_list\n",
    "    print('Training Model.')\n",
    "    \n",
    "    time_start = time.time()\n",
    "\n",
    "    for batch in range(iterations):\n",
    "        x_batch = x_train.next_batch(batch_size)\n",
    "        y_batch = y_train.next_batch(batch_size)\n",
    "        session.run(training_op, feed_dict={x: x_batch, y: y_batch})   \n",
    "        acc_train = accuracy.eval(session=session, feed_dict={x: x_batch, y: y_batch})\n",
    "        acc_valid = accuracy.eval(session=session, feed_dict={x: x_valid.data, y: y_valid.data})\n",
    "        \n",
    "        #iterations_list += [(total_iterations + batch)]\n",
    "        #train_acc_list += [acc_train]\n",
    "        #valid_acc_list += [acc_valid]\n",
    "        time_now = str(timedelta(seconds=int(round(time.time() - time_start))))\n",
    "        \n",
    "        #print(msg, total_iterations + batch, \"Train accuracy:\", acc_train*100, \"Validation accuracy:\", acc_valid*100)\n",
    "        print('%s %4d\\tTrain accuracy: %2.2f%%\\tValidation accuracy: %2.2f%%' % (time_now, total_iterations + batch, acc_train*100, acc_valid*100))\n",
    "    total_iterations += iterations\n",
    "    print('Training Complete.')\n",
    "    "
   ]
  },
  {
   "cell_type": "code",
   "execution_count": null,
   "metadata": {
    "collapsed": false,
    "scrolled": true
   },
   "outputs": [],
   "source": [
    "train(sess, iterations=160, batch_size=batch_size)"
   ]
  },
  {
   "cell_type": "code",
   "execution_count": 62,
   "metadata": {
    "collapsed": false
   },
   "outputs": [],
   "source": [
    "reset_graph(session=sess, seed=SEED)"
   ]
  },
  {
   "cell_type": "code",
   "execution_count": null,
   "metadata": {
    "collapsed": true
   },
   "outputs": [],
   "source": []
  }
 ],
 "metadata": {
  "kernelspec": {
   "display_name": "Python 3",
   "language": "python",
   "name": "python3"
  },
  "language_info": {
   "codemirror_mode": {
    "name": "ipython",
    "version": 3
   },
   "file_extension": ".py",
   "mimetype": "text/x-python",
   "name": "python",
   "nbconvert_exporter": "python",
   "pygments_lexer": "ipython3",
   "version": "3.5.4"
  }
 },
 "nbformat": 4,
 "nbformat_minor": 2
}
